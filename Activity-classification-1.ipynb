{
 "cells": [
  {
   "cell_type": "markdown",
   "metadata": {},
   "source": [
    "# kNN Classification using k-mer frequency representation of text\n",
    "\n",
    "In this project, we will create a program to transform text into vectors using a slightly different technique than previously learned, and then perform kNN based classification on the resulting vectors. We will be using the badges UCI dataset (https://archive.ics.uci.edu/ml/machine-learning-databases/badges/badges.data), which contains names of some conference attendees along with a \"+\" or \"-\" class for each name. We will first make the text lowercase and separate the class from the badge name for each object, e.g., \"+ Naoki Abe\" should be turned into the object \"naoki abe\" with class \"+\". We will keep track of the original name (\"Naoki Abe\") associated with the vector.\n",
    "\n",
    "Our program will have two input parameters, c and k. Given the input parameter c, for each name, it will construct a vector of c-mer terms (usually called k-mers, but I am calling them c-mers since the input variable k is being used for kNN) of the required c length, by enumerating all subsequences of length c within the name. For example, if c=3, “naoki abe” becomes < “nao”, “aok”, “oki”, “ki “, “i a”, “ ab”, “abe” >. Finally, we will use the same technique we learned for word-based terms to construct sparse term-frequency vectors for each of the objects.\n",
    "\n",
    "Using the constructed vectors and their associated classes, given the input parameter k, we will construct a program that should perform kNN based classification using cosine similarity and 10-fold cross-validation and report the average classification accuracy among all tests. The class of the test sample should be chosen by majority vote, with ties broken in favor of the class with the highest average similarity. In the rare case that the test sample does not have any neighbors (no features in common with any training samples), we will assign a predicted class label by drawing a random value from a uniform distribution over [0,1) and classifying the test sample as “+” if the value is greater than 0.5 and “-“ otherwise.\n"
   ]
  },
  {
   "cell_type": "code",
<<<<<<< Updated upstream
   "execution_count": null,
   "metadata": {},
=======
   "execution_count": 1,
   "metadata": {
    "ExecuteTime": {
     "end_time": "2018-09-14T18:39:43.667879Z",
     "start_time": "2018-09-14T18:39:43.055843Z"
    }
   },
>>>>>>> Stashed changes
   "outputs": [],
   "source": [
    "import numpy as np\n",
    "import pandas as pd\n",
    "import scipy.sparse as sp\n",
    "from numpy.linalg import norm\n",
    "from collections import Counter, defaultdict\n",
    "from scipy.sparse import csr_matrix"
   ]
  },
  {
   "cell_type": "markdown",
   "metadata": {},
   "source": [
    "The code below reads the badges dataset into the variable `df` and extracts the string data associated with each person in the `vals` variable. Write code to split the strings in vals into their component names and classes. The `names` and `cls` lists should hold those components such that the $i$th person's name will be in `names[i]` and their associated class in `cls[i]`."
   ]
  },
  {
   "cell_type": "code",
   "execution_count": 2,
   "metadata": {
    "ExecuteTime": {
     "end_time": "2018-09-14T18:39:43.877112Z",
     "start_time": "2018-09-14T18:39:43.670335Z"
    },
    "scrolled": true
   },
   "outputs": [
    {
     "name": "stdout",
     "output_type": "stream",
     "text": [
      "Index: 0 ,Class: +, Name: Naoki Abe\n",
      "Index: 1 ,Class: -, Name: Myriam Abramson\n",
      "Index: 2 ,Class: +, Name: David W. Aha\n",
      "Index: 3 ,Class: +, Name: Kamal M. Ali\n",
      "Index: 4 ,Class: -, Name: Eric Allender\n",
      "Index: 5 ,Class: +, Name: Dana Angluin\n",
      "Index: 6 ,Class: -, Name: Chidanand Apte\n",
      "Index: 7 ,Class: +, Name: Minoru Asada\n",
      "Index: 8 ,Class: +, Name: Lars Asker\n",
      "Index: 9 ,Class: +, Name: Javed Aslam\n",
      "Index: 10 ,Class: +, Name: Haralabos Athanassiou\n",
      "Index: 11 ,Class: +, Name: Jose L. Balcazar\n",
      "Index: 12 ,Class: +, Name: Timothy P. Barber\n",
      "Index: 13 ,Class: +, Name: Michael W. Barley\n",
      "Index: 14 ,Class: -, Name: Cristina Baroglio\n",
      "Index: 15 ,Class: +, Name: Peter Bartlett\n",
      "Index: 16 ,Class: -, Name: Eric Baum\n",
      "Index: 17 ,Class: +, Name: Welton Becket\n",
      "Index: 18 ,Class: -, Name: Shai Ben-David\n",
      "Index: 19 ,Class: +, Name: George Berg\n",
      "Index: 20 ,Class: +, Name: Neil Berkman\n",
      "Index: 21 ,Class: +, Name: Malini Bhandaru\n",
      "Index: 22 ,Class: +, Name: Bir Bhanu\n",
      "Index: 23 ,Class: +, Name: Reinhard Blasig\n",
      "Index: 24 ,Class: -, Name: Avrim Blum\n",
      "Index: 25 ,Class: -, Name: Anselm Blumer\n",
      "Index: 26 ,Class: +, Name: Justin Boyan\n",
      "Index: 27 ,Class: +, Name: Carla E. Brodley\n",
      "Index: 28 ,Class: +, Name: Nader Bshouty\n",
      "Index: 29 ,Class: -, Name: Wray Buntine\n",
      "Index: 30 ,Class: -, Name: Andrey Burago\n",
      "Index: 31 ,Class: +, Name: Tom Bylander\n",
      "Index: 32 ,Class: +, Name: Bill Byrne\n",
      "Index: 33 ,Class: -, Name: Claire Cardie\n",
      "Index: 34 ,Class: +, Name: Richard A. Caruana\n",
      "Index: 35 ,Class: +, Name: John Case\n",
      "Index: 36 ,Class: +, Name: Jason Catlett\n",
      "Index: 37 ,Class: +, Name: Nicolo Cesa-Bianchi\n",
      "Index: 38 ,Class: -, Name: Philip Chan\n",
      "Index: 39 ,Class: +, Name: Mark Changizi\n",
      "Index: 40 ,Class: +, Name: Pang-Chieh Chen\n",
      "Index: 41 ,Class: -, Name: Zhixiang Chen\n",
      "Index: 42 ,Class: +, Name: Wan P. Chiang\n",
      "Index: 43 ,Class: -, Name: Steve A. Chien\n",
      "Index: 44 ,Class: +, Name: Jeffery Clouse\n",
      "Index: 45 ,Class: +, Name: William Cohen\n",
      "Index: 46 ,Class: +, Name: David Cohn\n",
      "Index: 47 ,Class: -, Name: Clare Bates Congdon\n",
      "Index: 48 ,Class: -, Name: Antoine Cornuejols\n",
      "Index: 49 ,Class: +, Name: Mark W. Craven\n",
      "Index: 50 ,Class: +, Name: Robert P. Daley\n",
      "Index: 51 ,Class: +, Name: Lindley Darden\n",
      "Index: 52 ,Class: -, Name: Chris Darken\n",
      "Index: 53 ,Class: -, Name: Bhaskar Dasgupta\n",
      "Index: 54 ,Class: -, Name: Brian D. Davidson\n",
      "Index: 55 ,Class: +, Name: Michael de la Maza\n",
      "Index: 56 ,Class: -, Name: Olivier De Vel\n",
      "Index: 57 ,Class: -, Name: Scott E. Decatur\n",
      "Index: 58 ,Class: +, Name: Gerald F. DeJong\n",
      "Index: 59 ,Class: +, Name: Kan Deng\n",
      "Index: 60 ,Class: -, Name: Thomas G. Dietterich\n",
      "Index: 61 ,Class: +, Name: Michael J. Donahue\n",
      "Index: 62 ,Class: +, Name: George A. Drastal\n",
      "Index: 63 ,Class: +, Name: Harris Drucker\n",
      "Index: 64 ,Class: -, Name: Chris Drummond\n",
      "Index: 65 ,Class: +, Name: Hal Duncan\n",
      "Index: 66 ,Class: -, Name: Thomas Ellman\n",
      "Index: 67 ,Class: +, Name: Tapio Elomaa\n",
      "Index: 68 ,Class: +, Name: Susan L. Epstein\n",
      "Index: 69 ,Class: +, Name: Bob Evans\n",
      "Index: 70 ,Class: -, Name: Claudio Facchinetti\n",
      "Index: 71 ,Class: +, Name: Tom Fawcett\n",
      "Index: 72 ,Class: -, Name: Usama Fayyad\n",
      "Index: 73 ,Class: +, Name: Aaron Feigelson\n",
      "Index: 74 ,Class: +, Name: Nicolas Fiechter\n",
      "Index: 75 ,Class: +, Name: David Finton\n",
      "Index: 76 ,Class: +, Name: John Fischer\n",
      "Index: 77 ,Class: +, Name: Paul Fischer\n",
      "Index: 78 ,Class: +, Name: Seth Flanders\n",
      "Index: 79 ,Class: +, Name: Lance Fortnow\n",
      "Index: 80 ,Class: -, Name: Ameur Foued\n",
      "Index: 81 ,Class: +, Name: Judy A. Franklin\n",
      "Index: 82 ,Class: +, Name: Yoav Freund\n",
      "Index: 83 ,Class: +, Name: Johannes Furnkranz\n",
      "Index: 84 ,Class: +, Name: Merrick L. Furst\n",
      "Index: 85 ,Class: +, Name: Jean Gabriel Ganascia\n",
      "Index: 86 ,Class: +, Name: William Gasarch\n",
      "Index: 87 ,Class: +, Name: Ricard Gavalda\n",
      "Index: 88 ,Class: +, Name: Melinda T. Gervasio\n",
      "Index: 89 ,Class: +, Name: Yolanda Gil\n",
      "Index: 90 ,Class: +, Name: David Gillman\n",
      "Index: 91 ,Class: -, Name: Attilio Giordana\n",
      "Index: 92 ,Class: +, Name: Kate Goelz\n",
      "Index: 93 ,Class: +, Name: Paul W. Goldberg\n",
      "Index: 94 ,Class: +, Name: Sally Goldman\n",
      "Index: 95 ,Class: +, Name: Diana Gordon\n",
      "Index: 96 ,Class: +, Name: Geoffrey Gordon\n",
      "Index: 97 ,Class: +, Name: Jonathan Gratch\n",
      "Index: 98 ,Class: +, Name: Leslie Grate\n",
      "Index: 99 ,Class: +, Name: William A. Greene\n",
      "Index: 100 ,Class: +, Name: Russell Greiner\n",
      "Index: 101 ,Class: +, Name: Marko Grobelnik\n",
      "Index: 102 ,Class: +, Name: Tal Grossman\n",
      "Index: 103 ,Class: +, Name: Margo Guertin\n",
      "Index: 104 ,Class: +, Name: Tom Hancock\n",
      "Index: 105 ,Class: +, Name: Earl S. Harris Jr.\n",
      "Index: 106 ,Class: +, Name: David Haussler\n",
      "Index: 107 ,Class: +, Name: Matthias Heger\n",
      "Index: 108 ,Class: +, Name: Lisa Hellerstein\n",
      "Index: 109 ,Class: +, Name: David Helmbold\n",
      "Index: 110 ,Class: +, Name: Daniel Hennessy\n",
      "Index: 111 ,Class: +, Name: Haym Hirsh\n",
      "Index: 112 ,Class: +, Name: Jonathan Hodgson\n",
      "Index: 113 ,Class: +, Name: Robert C. Holte\n",
      "Index: 114 ,Class: +, Name: Jiarong Hong\n",
      "Index: 115 ,Class: -, Name: Chun-Nan Hsu\n",
      "Index: 116 ,Class: +, Name: Kazushi Ikeda\n",
      "Index: 117 ,Class: +, Name: Masayuki Inaba\n",
      "Index: 118 ,Class: -, Name: Drago Indjic\n",
      "Index: 119 ,Class: +, Name: Nitin Indurkhya\n",
      "Index: 120 ,Class: +, Name: Jeff Jackson\n",
      "Index: 121 ,Class: +, Name: Sanjay Jain\n",
      "Index: 122 ,Class: +, Name: Wolfgang Janko\n",
      "Index: 123 ,Class: -, Name: Klaus P. Jantke\n",
      "Index: 124 ,Class: +, Name: Nathalie Japkowicz\n",
      "Index: 125 ,Class: +, Name: George H. John\n",
      "Index: 126 ,Class: +, Name: Randolph Jones\n",
      "Index: 127 ,Class: +, Name: Michael I. Jordan\n",
      "Index: 128 ,Class: +, Name: Leslie Pack Kaelbling\n",
      "Index: 129 ,Class: +, Name: Bala Kalyanasundaram\n",
      "Index: 130 ,Class: -, Name: Thomas E. Kammeyer\n",
      "Index: 131 ,Class: -, Name: Grigoris Karakoulas\n",
      "Index: 132 ,Class: +, Name: Michael Kearns\n",
      "Index: 133 ,Class: +, Name: Neela Khan\n",
      "Index: 134 ,Class: +, Name: Roni Khardon\n",
      "Index: 135 ,Class: +, Name: Dennis F. Kibler\n",
      "Index: 136 ,Class: +, Name: Jorg-Uwe Kietz\n",
      "Index: 137 ,Class: -, Name: Efim Kinber\n",
      "Index: 138 ,Class: -, Name: Jyrki Kivinen\n",
      "Index: 139 ,Class: -, Name: Emanuel Knill\n",
      "Index: 140 ,Class: -, Name: Craig Knoblock\n",
      "Index: 141 ,Class: +, Name: Ron Kohavi\n",
      "Index: 142 ,Class: +, Name: Pascal Koiran\n",
      "Index: 143 ,Class: +, Name: Moshe Koppel\n",
      "Index: 144 ,Class: +, Name: Daniel Kortenkamp\n",
      "Index: 145 ,Class: +, Name: Matevz Kovacic\n",
      "Index: 146 ,Class: -, Name: Stefan Kramer\n",
      "Index: 147 ,Class: +, Name: Martinch Krikis\n",
      "Index: 148 ,Class: +, Name: Martin Kummer\n",
      "Index: 149 ,Class: -, Name: Eyal Kushilevitz\n",
      "Index: 150 ,Class: -, Name: Stephen Kwek\n",
      "Index: 151 ,Class: +, Name: Wai Lam\n",
      "Index: 152 ,Class: +, Name: Ken Lang\n",
      "Index: 153 ,Class: -, Name: Steffen Lange\n",
      "Index: 154 ,Class: +, Name: Pat Langley\n",
      "Index: 155 ,Class: +, Name: Mary Soon Lee\n",
      "Index: 156 ,Class: +, Name: Wee Sun Lee\n",
      "Index: 157 ,Class: +, Name: Moshe Leshno\n",
      "Index: 158 ,Class: +, Name: Long-Ji Lin\n",
      "Index: 159 ,Class: -, Name: Charles X. Ling\n",
      "Index: 160 ,Class: +, Name: Michael Littman\n",
      "Index: 161 ,Class: +, Name: David Loewenstern\n",
      "Index: 162 ,Class: -, Name: Phil Long\n",
      "Index: 163 ,Class: +, Name: Wolfgang Maass\n",
      "Index: 164 ,Class: -, Name: Bruce A. MacDonald\n",
      "Index: 165 ,Class: +, Name: Rich Maclin\n",
      "Index: 166 ,Class: -, Name: Sridhar Mahadevan\n",
      "Index: 167 ,Class: -, Name: J. Jeffrey Mahoney\n",
      "Index: 168 ,Class: +, Name: Yishay Mansour\n",
      "Index: 169 ,Class: +, Name: Mario Marchand\n",
      "Index: 170 ,Class: -, Name: Shaul Markovitch\n",
      "Index: 171 ,Class: -, Name: Oded Maron\n",
      "Index: 172 ,Class: +, Name: Maja Mataric\n",
      "Index: 173 ,Class: +, Name: David Mathias\n",
      "Index: 174 ,Class: +, Name: Toshiyasu Matsushima\n",
      "Index: 175 ,Class: -, Name: Stan Matwin\n",
      "Index: 176 ,Class: -, Name: Eddy Mayoraz\n",
      "Index: 177 ,Class: -, Name: R. Andrew McCallum\n",
      "Index: 178 ,Class: -, Name: L. Thorne McCarty\n",
      "Index: 179 ,Class: -, Name: Alexander M. Meystel\n",
      "Index: 180 ,Class: +, Name: Michael A. meystel\n",
      "Index: 181 ,Class: -, Name: Steven Minton\n",
      "Index: 182 ,Class: +, Name: Nina Mishra\n",
      "Index: 183 ,Class: +, Name: Tom M. Mitchell\n",
      "Index: 184 ,Class: +, Name: Dunja Mladenic\n",
      "Index: 185 ,Class: +, Name: David Montgomery\n",
      "Index: 186 ,Class: -, Name: Andrew W. Moore\n",
      "Index: 187 ,Class: +, Name: Johanne Morin\n",
      "Index: 188 ,Class: +, Name: Hiroshi Motoda\n",
      "Index: 189 ,Class: -, Name: Stephen Muggleton\n",
      "Index: 190 ,Class: +, Name: Patrick M. Murphy\n",
      "Index: 191 ,Class: -, Name: Sreerama K. Murthy\n",
      "Index: 192 ,Class: +, Name: Filippo Neri\n",
      "Index: 193 ,Class: -, Name: Craig Nevill-Manning\n",
      "Index: 194 ,Class: -, Name: Andrew Y. Ng\n",
      "Index: 195 ,Class: +, Name: Nikolay Nikolaev\n",
      "Index: 196 ,Class: -, Name: Steven W. Norton\n",
      "Index: 197 ,Class: +, Name: Joseph O'Sullivan\n",
      "Index: 198 ,Class: +, Name: Dan Oblinger\n",
      "Index: 199 ,Class: +, Name: Jong-Hoon Oh\n",
      "Index: 200 ,Class: -, Name: Arlindo Oliveira\n",
      "Index: 201 ,Class: +, Name: David W. Opitz\n",
      "Index: 202 ,Class: +, Name: Sandra Panizza\n",
      "Index: 203 ,Class: +, Name: Barak A. Pearlmutter\n",
      "Index: 204 ,Class: -, Name: Ed Pednault\n",
      "Index: 205 ,Class: +, Name: Jing Peng\n",
      "Index: 206 ,Class: +, Name: Fernando Pereira\n",
      "Index: 207 ,Class: +, Name: Aurora Perez\n",
      "Index: 208 ,Class: +, Name: Bernhard Pfahringer\n",
      "Index: 209 ,Class: +, Name: David Pierce\n",
      "Index: 210 ,Class: -, Name: Krishnan Pillaipakkamnatt\n",
      "Index: 211 ,Class: +, Name: Roberto Piola\n",
      "Index: 212 ,Class: +, Name: Leonard Pitt\n",
      "Index: 213 ,Class: +, Name: Lorien Y. Pratt\n",
      "Index: 214 ,Class: -, Name: Armand Prieditis\n",
      "Index: 215 ,Class: +, Name: Foster J. Provost\n",
      "Index: 216 ,Class: -, Name: J. R. Quinlan\n",
      "Index: 217 ,Class: +, Name: John Rachlin\n",
      "Index: 218 ,Class: +, Name: Vijay Raghavan\n",
      "Index: 219 ,Class: -, Name: R. Bharat Rao\n",
      "Index: 220 ,Class: -, Name: Priscilla Rasmussen\n",
      "Index: 221 ,Class: +, Name: Joel Ratsaby\n",
      "Index: 222 ,Class: +, Name: Michael Redmond\n",
      "Index: 223 ,Class: +, Name: Patricia J. Riddle\n",
      "Index: 224 ,Class: +, Name: Lance Riley\n",
      "Index: 225 ,Class: +, Name: Ronald L. Rivest\n",
      "Index: 226 ,Class: +, Name: Huw Roberts\n",
      "Index: 227 ,Class: +, Name: Dana Ron\n",
      "Index: 228 ,Class: +, Name: Robert S. Roos\n",
      "Index: 229 ,Class: +, Name: Justinian Rosca\n",
      "Index: 230 ,Class: +, Name: John R. Rose\n",
      "Index: 231 ,Class: +, Name: Dan Roth\n",
      "Index: 232 ,Class: +, Name: James S. Royer\n",
      "Index: 233 ,Class: +, Name: Ronitt Rubinfeld\n",
      "Index: 234 ,Class: -, Name: Stuart Russell\n",
      "Index: 235 ,Class: +, Name: Lorenza Saitta\n",
      "Index: 236 ,Class: +, Name: Yoshifumi Sakai\n",
      "Index: 237 ,Class: +, Name: William Sakas\n",
      "Index: 238 ,Class: +, Name: Marcos Salganicoff\n",
      "Index: 239 ,Class: -, Name: Steven Salzberg\n",
      "Index: 240 ,Class: -, Name: Claude Sammut\n",
      "Index: 241 ,Class: +, Name: Cullen Schaffer\n",
      "Index: 242 ,Class: +, Name: Robert Schapire\n",
      "Index: 243 ,Class: +, Name: Mark Schwabacher\n",
      "Index: 244 ,Class: +, Name: Michele Sebag\n",
      "Index: 245 ,Class: +, Name: Gary M. Selzer\n",
      "Index: 246 ,Class: +, Name: Sebastian Seung\n",
      "Index: 247 ,Class: -, Name: Arun Sharma\n",
      "Index: 248 ,Class: +, Name: Jude Shavlik\n",
      "Index: 249 ,Class: +, Name: Daniel L. Silver\n",
      "Index: 250 ,Class: -, Name: Glenn Silverstein\n",
      "Index: 251 ,Class: +, Name: Yoram Singer\n",
      "Index: 252 ,Class: +, Name: Mona Singh\n",
      "Index: 253 ,Class: +, Name: Satinder Pal Singh\n",
      "Index: 254 ,Class: +, Name: Kimmen Sjolander\n",
      "Index: 255 ,Class: +, Name: David B. Skalak\n",
      "Index: 256 ,Class: +, Name: Sean Slattery\n",
      "Index: 257 ,Class: +, Name: Robert Sloan\n",
      "Index: 258 ,Class: +, Name: Donna Slonim\n",
      "Index: 259 ,Class: +, Name: Carl H. Smith\n",
      "Index: 260 ,Class: +, Name: Sonya Snedecor\n",
      "Index: 261 ,Class: +, Name: Von-Wun Soo\n",
      "Index: 262 ,Class: -, Name: Thomas G. Spalthoff\n",
      "Index: 263 ,Class: +, Name: Mark Staley\n",
      "Index: 264 ,Class: -, Name: Frank Stephan\n",
      "Index: 265 ,Class: +, Name: Mandayam T. Suraj\n",
      "Index: 266 ,Class: +, Name: Richard S. Sutton\n",
      "Index: 267 ,Class: +, Name: Joe Suzuki\n",
      "Index: 268 ,Class: -, Name: Prasad Tadepalli\n",
      "Index: 269 ,Class: +, Name: Hiroshi Tanaka\n",
      "Index: 270 ,Class: -, Name: Irina Tchoumatchenko\n",
      "Index: 271 ,Class: -, Name: Brian Tester\n",
      "Index: 272 ,Class: -, Name: Chen K. Tham\n",
      "Index: 273 ,Class: +, Name: Tatsuo Unemi\n",
      "Index: 274 ,Class: -, Name: Lyle H. Ungar\n",
      "Index: 275 ,Class: +, Name: Paul Utgoff\n",
      "Index: 276 ,Class: +, Name: Karsten Verbeurgt\n",
      "Index: 277 ,Class: +, Name: Paul Vitanyi\n",
      "Index: 278 ,Class: +, Name: Xuemei Wang\n",
      "Index: 279 ,Class: +, Name: Manfred Warmuth\n",
      "Index: 280 ,Class: +, Name: Gary Weiss\n",
      "Index: 281 ,Class: -, Name: Sholom Weiss\n",
      "Index: 282 ,Class: -, Name: Thomas Wengerek\n",
      "Index: 283 ,Class: -, Name: Bradley L. Whitehall\n",
      "Index: 284 ,Class: -, Name: Alma Whitten\n",
      "Index: 285 ,Class: +, Name: Robert Williamson\n",
      "Index: 286 ,Class: +, Name: Janusz Wnek\n",
      "Index: 287 ,Class: +, Name: Kenji Yamanishi\n",
      "Index: 288 ,Class: +, Name: Takefumi Yamazaki\n",
      "Index: 289 ,Class: +, Name: Holly Yanco\n",
      "Index: 290 ,Class: +, Name: John M. Zelle\n",
      "Index: 291 ,Class: -, Name: Thomas Zeugmann\n",
      "Index: 292 ,Class: +, Name: Jean-Daniel Zucker\n",
      "Index: 293 ,Class: +, Name: Darko Zupanic\n"
     ]
    },
    {
     "name": "stderr",
     "output_type": "stream",
     "text": [
      "/usr/local/lib/python3.6/site-packages/ipykernel_launcher.py:8: DeprecationWarning: \n",
      ".ix is deprecated. Please use\n",
      ".loc for label based indexing or\n",
      ".iloc for positional indexing\n",
      "\n",
      "See the documentation here:\n",
      "http://pandas.pydata.org/pandas-docs/stable/indexing.html#ix-indexer-is-deprecated\n",
      "  \n"
     ]
    }
   ],
   "source": [
    "# read in the dataset\n",
    "df = pd.read_csv(\n",
    "    filepath_or_buffer='data/badges.data', \n",
    "    header=None, \n",
    "    sep=',')\n",
    "\n",
    "# separate names from classes\n",
    "vals = df.ix[:,:].values\n",
    "\n",
    "names = []\n",
    "cls = []\n",
    "for val in vals.ravel():\n",
    "    # Check to see if lists are correct\n",
    "    print('Index: %i ,Class: %s, Name: %s' % (len(names), val[0], val[2:]))\n",
    "    cls.append(val[0])\n",
    "    names.append(val[2:])\n",
    "\n",
    "# Check to see if lists are correct\n",
    "# print('Class: %s, Name: %s' % (cls[0], names[0]))"
   ]
  },
  {
   "cell_type": "markdown",
   "metadata": {},
   "source": [
    "Write a function that, given a name and a `c-mer` length parameter `c`, will create the list of `c-mers` for the name."
   ]
  },
  {
   "cell_type": "code",
<<<<<<< Updated upstream
   "execution_count": null,
   "metadata": {},
=======
   "execution_count": 3,
   "metadata": {
    "ExecuteTime": {
     "end_time": "2018-09-14T18:39:43.888553Z",
     "start_time": "2018-09-14T18:39:43.879278Z"
    }
   },
>>>>>>> Stashed changes
   "outputs": [],
   "source": [
    "def cmer(name, c=3):\n",
    "    r\"\"\" Given a name and parameter c, return the vector of c-mers associated with the name\n",
    "    \"\"\"\n",
    "    name = name.lower()\n",
    "    length = len(name)\n",
    "    iterations = length - c + 1    \n",
    "    \n",
    "    v = []\n",
    "    for i in range(iterations):\n",
    "        v.append(name[i:i+c])\n",
    "    \n",
    "    \n",
    "    \n",
    "    \n",
    "    return v"
   ]
  },
  {
   "cell_type": "code",
   "execution_count": 4,
   "metadata": {
    "ExecuteTime": {
     "end_time": "2018-09-14T18:39:43.902977Z",
     "start_time": "2018-09-14T18:39:43.892538Z"
    }
   },
   "outputs": [
    {
     "data": {
      "text/plain": [
       "['nao', 'aok', 'oki', 'ki ', 'i a', ' ab', 'abe']"
      ]
     },
     "execution_count": 4,
     "metadata": {},
     "output_type": "execute_result"
    }
   ],
   "source": [
    "# Test the function to see if it works\n",
    "\n",
    "cmer(names[0], c=3)"
   ]
  },
  {
   "cell_type": "markdown",
   "metadata": {},
   "source": [
    "The following functions will be useful in later tasks. Study them carefully."
   ]
  },
  {
   "cell_type": "code",
<<<<<<< Updated upstream
   "execution_count": null,
   "metadata": {},
=======
   "execution_count": 5,
   "metadata": {
    "ExecuteTime": {
     "end_time": "2018-09-14T18:39:44.074212Z",
     "start_time": "2018-09-14T18:39:43.905567Z"
    }
   },
>>>>>>> Stashed changes
   "outputs": [],
   "source": [
    "def build_matrix(docs):\n",
    "    r\"\"\" Build sparse matrix from a list of documents, \n",
    "    each of which is a list of word/terms in the document.  \n",
    "    \"\"\"\n",
    "    nrows = len(docs)\n",
    "    idx = {}\n",
    "    tid = 0\n",
    "    nnz = 0\n",
    "    for d in docs:\n",
    "        nnz += len(set(d))\n",
    "        for w in d:\n",
    "            if w not in idx:\n",
    "                idx[w] = tid\n",
    "                tid += 1\n",
    "    ncols = len(idx)\n",
    "        \n",
    "    # set up memory\n",
    "    ind = np.zeros(nnz, dtype=np.int)\n",
    "    val = np.zeros(nnz, dtype=np.double)\n",
    "    ptr = np.zeros(nrows+1, dtype=np.int)\n",
    "    i = 0  # document ID / row counter\n",
    "    n = 0  # non-zero counter\n",
    "    # transfer values\n",
    "    for d in docs:\n",
    "        cnt = Counter(d)\n",
    "        keys = list(k for k,_ in cnt.most_common())\n",
    "        l = len(keys)\n",
    "        for j,k in enumerate(keys):\n",
    "            ind[j+n] = idx[k]\n",
    "            val[j+n] = cnt[k]\n",
    "        ptr[i+1] = ptr[i] + l\n",
    "        n += l\n",
    "        i += 1\n",
    "            \n",
    "    mat = csr_matrix((val, ind, ptr), shape=(nrows, ncols), dtype=np.double)\n",
    "    mat.sort_indices()\n",
    "    \n",
    "    return mat\n",
    "\n",
    "def csr_info(mat, name=\"\", non_empy=False):\n",
    "    r\"\"\" Print out info about this CSR matrix. If non_empy, \n",
    "    report number of non-empty rows and cols as well\n",
    "    \"\"\"\n",
    "    if non_empy:\n",
    "        print(\"%s [nrows %d (%d non-empty), ncols %d (%d non-empty), nnz %d]\" % (\n",
    "                name, mat.shape[0], \n",
    "                sum(1 if mat.indptr[i+1] > mat.indptr[i] else 0 \n",
    "                for i in range(mat.shape[0])), \n",
    "                mat.shape[1], len(np.unique(mat.indices)), \n",
    "                len(mat.data)))\n",
    "    else:\n",
    "        print( \"%s [nrows %d, ncols %d, nnz %d]\" % (name, \n",
    "                mat.shape[0], mat.shape[1], len(mat.data)) )\n",
    "\n",
    "def csr_l2normalize(mat, copy=False, **kargs):\n",
    "    r\"\"\" Normalize the rows of a CSR matrix by their L-2 norm. \n",
    "    If copy is True, returns a copy of the normalized matrix.\n",
    "    \"\"\"\n",
    "    if copy is True:\n",
    "        mat = mat.copy()\n",
    "    nrows = mat.shape[0]\n",
    "    nnz = mat.nnz\n",
    "    ind, val, ptr = mat.indices, mat.data, mat.indptr\n",
    "    # normalize\n",
    "    for i in range(nrows):\n",
    "        rsum = 0.0    \n",
    "        for j in range(ptr[i], ptr[i+1]):\n",
    "            rsum += val[j]**2\n",
    "        if rsum == 0.0:\n",
    "            continue  # do not normalize empty rows\n",
    "        rsum = 1.0/np.sqrt(rsum)\n",
    "        for j in range(ptr[i], ptr[i+1]):\n",
    "            val[j] *= rsum\n",
    "            \n",
    "    if copy is True:\n",
    "        return mat\n",
    "        \n",
    "def namesToMatrix(names, c):\n",
    "    docs = [cmer(n, c) for n in names]\n",
    "    return build_matrix(docs)"
   ]
  },
  {
   "cell_type": "markdown",
   "metadata": {},
   "source": [
    "Compare the sparse matrix statistics (via `csr_info`) for c-mer representations of the names given $c\\in\\{1,2,3\\}$."
   ]
  },
  {
   "cell_type": "code",
   "execution_count": 6,
   "metadata": {
    "ExecuteTime": {
     "end_time": "2018-09-14T18:39:44.102831Z",
     "start_time": "2018-09-14T18:39:44.076388Z"
    }
   },
   "outputs": [
    {
     "name": "stdout",
     "output_type": "stream",
     "text": [
      "For 1-mer, [nrows 294, ncols 30, nnz 3054]\n",
      "For 2-mer, [nrows 294, ncols 442, nnz 3739]\n",
      "For 3-mer, [nrows 294, ncols 1695, nnz 3527]\n"
     ]
    }
   ],
   "source": [
    "for c_num in [1, 2, 3]:\n",
    "    mat = namesToMatrix(names, c_num)\n",
    "    csr_info(mat, name='For %i-mer,'% c_num)"
   ]
  },
  {
   "cell_type": "markdown",
   "metadata": {},
   "source": [
    "We'll now define a function to search for the top-$k$ neighbors for a given name (one of the objects the dataset), where proximity is computed via cosine similarity."
   ]
  },
  {
   "cell_type": "code",
<<<<<<< Updated upstream
   "execution_count": null,
   "metadata": {},
=======
   "execution_count": 7,
   "metadata": {
    "ExecuteTime": {
     "end_time": "2018-09-14T18:39:44.124669Z",
     "start_time": "2018-09-14T18:39:44.105474Z"
    }
   },
>>>>>>> Stashed changes
   "outputs": [],
   "source": [
    "def findNeighborsForName(name, c=1, k=1):\n",
    "    # first, find the document for the given name\n",
    "    id = -1\n",
    "    for i in range(len(names)):\n",
    "        if names[i] == name:\n",
    "            id = i\n",
    "            break\n",
    "    if id == -1:\n",
    "        print(\"Name %s not found.\" % name)\n",
    "        return []\n",
    "    # now, compute similarities of name's vector against all other name vectors\n",
    "    mat = namesToMatrix(names, c)\n",
    "    csr_l2normalize(mat)\n",
    "    x = mat[id,:]\n",
    "    dots = x.dot(mat.T)\n",
    "    dots[0,id] = -1 # invalidate self-similarity\n",
    "    sims = list(zip(dots.indices, dots.data))\n",
    "    sims.sort(key=lambda x: x[1], reverse=True)\n",
    "    print(sims[:k])\n",
    "    return [names[s[0]] for s in sims[:k] if s[1] > 0 ]"
   ]
  },
  {
   "cell_type": "markdown",
   "metadata": {},
   "source": [
    "Let c=2 and k=5. Which are the closest neighbors for “Michael Kearns”, in decreasing order of similarity?"
   ]
  },
  {
   "cell_type": "code",
   "execution_count": 8,
   "metadata": {
    "ExecuteTime": {
     "end_time": "2018-09-14T18:39:44.144256Z",
     "start_time": "2018-09-14T18:39:44.127301Z"
    }
   },
   "outputs": [
    {
     "name": "stdout",
     "output_type": "stream",
     "text": [
      "Michael Kearns\n",
      "[(13, 0.5547001962252293), (222, 0.5188745216627709), (160, 0.5188745216627709), (180, 0.5090278103806222), (127, 0.4853626716970756)]\n"
     ]
    },
    {
     "data": {
      "text/plain": [
       "['Michael W. Barley',\n",
       " 'Michael Redmond',\n",
       " 'Michael Littman',\n",
       " 'Michael A. meystel',\n",
       " 'Michael I. Jordan']"
      ]
     },
     "execution_count": 8,
     "metadata": {},
     "output_type": "execute_result"
    }
   ],
   "source": [
    "# Verify Michael Kearns\n",
    "print(names[132])\n",
    "\n",
    "findNeighborsForName(names[132], c=2, k=5)"
   ]
  },
  {
   "cell_type": "markdown",
   "metadata": {},
   "source": [
    "Finally, we'll define a couple functions to perform $d$-fold cross-validation, defaulting to $d=10$. Double-check the code for errors. What does the line\n",
    "```python\n",
    "tc = Counter(clstr[s[0]] for s in sims[:k]).most_common(2)\n",
    "```\n",
    "do?"
   ]
  },
  {
<<<<<<< Updated upstream
   "cell_type": "code",
   "execution_count": null,
=======
   "cell_type": "markdown",
>>>>>>> Stashed changes
   "metadata": {},
   "source": [
    "-----\n",
    "## Answer\n",
    "\n",
    "```python\n",
    "tc = Counter(clstr[s[0]] for s in sims[:k]).most_common(2)\n",
    "``` \n",
    "will first create a `Counter` object of a list of the nearest (& most similiar) K class values and their counts. Then, it will call the `most_common` class method and this will output the 2-classes & the counts in the form of a list of tuples (class, count). We use this to determine the class with the more counts for majority voting. If the counts are the same, then we use simply add up the cosine similiarities of each individual instance for each class, and whichever has the higher similiarity will be the winner (and thus classified as the winner)."
   ]
  },
  {
   "cell_type": "code",
   "execution_count": 9,
   "metadata": {
    "ExecuteTime": {
     "end_time": "2018-09-14T18:39:44.303072Z",
     "start_time": "2018-09-14T18:39:44.146390Z"
    }
   },
   "outputs": [],
   "source": [
    "def splitData(mat, cls, fold=1, d=10):\n",
    "    r\"\"\" Split the matrix and class info into train and test data using d-fold hold-out\n",
    "    \"\"\"\n",
    "    n = mat.shape[0]\n",
    "    r = int(np.ceil(n*1.0/d))\n",
    "    mattr = []\n",
    "    clstr = []\n",
    "    # split mat and cls into d folds\n",
    "    for f in range(d):\n",
    "        if f+1 != fold:\n",
    "            mattr.append( mat[f*r: min((f+1)*r, n)] )\n",
    "            clstr.extend( cls[f*r: min((f+1)*r, n)] )\n",
    "    # join all fold matrices that are not the test matrix\n",
    "    train = sp.vstack(mattr, format='csr')\n",
    "    # extract the test matrix and class values associated with the test rows\n",
    "    test = mat[(fold-1)*r: min(fold*r, n), :]\n",
    "    clste = cls[(fold-1)*r: min(fold*r, n)]\n",
    "\n",
    "    return train, clstr, test, clste\n",
    "    \n",
    "def classifyNames(names, cls, c=3, k=3, d=10):\n",
    "    r\"\"\" Classify names using c-mer frequency vector representations of the names and kNN classification with \n",
    "    cosine similarity and 10-fold cross validation\n",
    "    \"\"\"\n",
    "    docs = [cmer(n, c) for n in names]\n",
    "    mat = build_matrix(docs)\n",
    "    # since we're using cosine similarity, normalize the vectors\n",
    "    csr_l2normalize(mat)\n",
    "    \n",
    "    def classify(x, train, clstr):\n",
    "        r\"\"\" Classify vector x using kNN and majority vote rule given training data and associated classes\n",
    "        \"\"\"\n",
    "        # find nearest neighbors for x\n",
    "        dots = x.dot(train.T)\n",
    "        sims = list(zip(dots.indices, dots.data))\n",
    "        if len(sims) == 0:\n",
    "            # could not find any neighbors\n",
    "            return '+' if np.random.rand() > 0.5 else '-'\n",
    "        sims.sort(key=lambda x: x[1], reverse=True)\n",
    "        \n",
    "        tc = Counter(clstr[s[0]] for s in sims[:k]).most_common(2)\n",
    "#         print(tc)\n",
    "        if len(tc) < 2 or tc[0][1] > tc[1][1]:\n",
    "            # majority vote\n",
    "            return tc[0][0]\n",
    "        # tie break\n",
    "        tc = defaultdict(float)\n",
    "        for s in sims[:k]:\n",
    "            tc[clstr[s[0]]] += s[1]\n",
    "#             print(tc)\n",
    "        return sorted(tc.items(), key=lambda x: x[1], reverse=True)[0][0]\n",
    "        \n",
    "    macc = 0.0\n",
    "    for f in range(d):\n",
    "        # split data into training and testing\n",
    "        train, clstr, test, clste = splitData(mat, cls, f+1, d)\n",
    "        # predict the class of each test sample\n",
    "        clspr = [ classify(test[i,:], train, clstr) for i in range(test.shape[0]) ]\n",
    "        # compute the accuracy of the prediction\n",
    "        acc = 0.0\n",
    "        for i in range(len(clste)):\n",
    "            if clste[i] == clspr[i]:\n",
    "                acc += 1\n",
    "        acc /= len(clste)\n",
    "        macc += acc\n",
    "        \n",
    "    return macc/d"
   ]
  },
  {
   "cell_type": "markdown",
   "metadata": {},
   "source": [
    "Given $c \\in \\{1,\\ldots,4\\}$ and  $k \\in \\{1,\\ldots,6\\}$, which meta-parameters result in the highest accuracy?"
   ]
  },
  {
   "cell_type": "code",
   "execution_count": 10,
   "metadata": {
    "ExecuteTime": {
     "end_time": "2018-09-14T18:39:47.772857Z",
     "start_time": "2018-09-14T18:39:44.305686Z"
    },
    "scrolled": true
   },
   "outputs": [
    {
     "name": "stdout",
     "output_type": "stream",
     "text": [
      "For 1-mer with 1-NN, 10-Fold CV Average Accuracy: 61.91667%\n",
      "For 1-mer with 2-NN, 10-Fold CV Average Accuracy: 61.91667%\n",
      "For 1-mer with 3-NN, 10-Fold CV Average Accuracy: 66.50000%\n",
      "For 1-mer with 4-NN, 10-Fold CV Average Accuracy: 66.33333%\n",
      "For 1-mer with 5-NN, 10-Fold CV Average Accuracy: 68.00000%\n",
      "For 1-mer with 6-NN, 10-Fold CV Average Accuracy: 67.58333%\n",
      "For 2-mer with 1-NN, 10-Fold CV Average Accuracy: 73.08333%\n",
      "For 2-mer with 2-NN, 10-Fold CV Average Accuracy: 73.08333%\n",
      "For 2-mer with 3-NN, 10-Fold CV Average Accuracy: 74.75000%\n",
      "For 2-mer with 4-NN, 10-Fold CV Average Accuracy: 75.08333%\n",
      "For 2-mer with 5-NN, 10-Fold CV Average Accuracy: 71.66667%\n",
      "For 2-mer with 6-NN, 10-Fold CV Average Accuracy: 74.33333%\n",
      "For 3-mer with 1-NN, 10-Fold CV Average Accuracy: 80.08333%\n",
      "For 3-mer with 2-NN, 10-Fold CV Average Accuracy: 80.08333%\n",
      "For 3-mer with 3-NN, 10-Fold CV Average Accuracy: 75.08333%\n",
      "For 3-mer with 4-NN, 10-Fold CV Average Accuracy: 76.41667%\n",
      "For 3-mer with 5-NN, 10-Fold CV Average Accuracy: 74.91667%\n",
      "For 3-mer with 6-NN, 10-Fold CV Average Accuracy: 75.00000%\n",
      "For 4-mer with 1-NN, 10-Fold CV Average Accuracy: 76.08333%\n",
      "For 4-mer with 2-NN, 10-Fold CV Average Accuracy: 79.00000%\n",
      "For 4-mer with 3-NN, 10-Fold CV Average Accuracy: 73.58333%\n",
      "For 4-mer with 4-NN, 10-Fold CV Average Accuracy: 79.50000%\n",
      "For 4-mer with 5-NN, 10-Fold CV Average Accuracy: 73.91667%\n",
      "For 4-mer with 6-NN, 10-Fold CV Average Accuracy: 74.08333%\n",
      "Best Model Params: \n",
      "  For 3-mer with 1-NN, 10-Fold CV Average Accuracy: 80.08333333%\n"
     ]
    }
   ],
   "source": [
    "best_acc = 0.0\n",
    "best_c = None\n",
    "best_k = None\n",
    "for c in range(1, 5):\n",
    "    for k in range(1, 7):\n",
    "        acc = classifyNames(names, cls, c=c, k=k, d=10)\n",
    "        print('For %i-mer with %i-NN, 10-Fold CV Average Accuracy: %.05f%%' %(c, k, acc * 100.0))\n",
    "        if acc > best_acc:\n",
    "            best_acc = acc\n",
    "            best_c = c\n",
    "            best_k = k\n",
    "\n",
    "print('Best Model Params: \\n  For %i-mer with %i-NN, 10-Fold CV Average Accuracy: %.08f%%' % \n",
    "      (best_c, best_k, best_acc * 100.0))"
   ]
  },
  {
   "cell_type": "markdown",
   "metadata": {},
   "source": [
    "# Analysis\n",
    "\n",
    "- It *seems* like the best params are c = 3, with k = 1 nearest neighbor, with a 10 fold cross validation accuracy of 80.08333333%.\n",
    "- However, we notice that for parameters c = 3 and k = 2, also produced the same 10 fold CV accuracy.\n",
    "- Since a small `k` will lead to *overfitting* (model is too specific and complex and dependent on only one point) and will be too sensitive to noise.\n",
    "- We should definately consider a higher `k` value to prevent overfitting and thus generalize better to a new set of data\n",
    "- **Thus the best params are c = 3, k = 2.**"
   ]
  },
  {
   "cell_type": "code",
   "execution_count": null,
   "metadata": {},
   "outputs": [],
   "source": []
  }
 ],
 "metadata": {
  "anaconda-cloud": {},
  "kernelspec": {
   "display_name": "Python 3",
   "language": "python",
   "name": "python3"
  },
  "language_info": {
   "codemirror_mode": {
    "name": "ipython",
    "version": 3
   },
   "file_extension": ".py",
   "mimetype": "text/x-python",
   "name": "python",
   "nbconvert_exporter": "python",
   "pygments_lexer": "ipython3",
   "version": "3.6.3"
  }
 },
 "nbformat": 4,
 "nbformat_minor": 1
}
