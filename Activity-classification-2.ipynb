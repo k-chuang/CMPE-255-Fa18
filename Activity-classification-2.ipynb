{
 "cells": [
  {
   "cell_type": "markdown",
   "metadata": {},
   "source": [
    "# Classification using Bayesian Classifier \n",
    "\n",
    "### Bayesian Classifiers\n",
    "These classifiers are \"probabilistic classifiers\" based on Bayes' theorem. Bayesian classifiers are highly scalable. They are often used when dimensionality of the inputs is high. \n",
    "\n",
    "### Types\n",
    "1. Naïve Bayes\n",
    "2. Bayesian Belief Network\n",
    "\n",
    "### Problem Statement\n",
    "\n",
    "UCI dataset: Skin Segmentation Data Set (https://archive.ics.uci.edu/ml/machine-learning-databases/00229/).\n",
    "The Skin Segmentation dataset is constructed over the B, G, R color space. Skin and Nonskin dataset is generated using skin textures from face images of people with diverse age, gender, and race. The task is to identify whether the BGR combination is a skin color or not.\n"
   ]
  },
  {
   "cell_type": "code",
   "execution_count": 1,
   "metadata": {
    "ExecuteTime": {
     "end_time": "2018-09-21T17:06:54.753142Z",
     "start_time": "2018-09-21T17:06:54.168918Z"
    }
   },
   "outputs": [],
   "source": [
    "import numpy as np\n",
    "import pandas as pd\n",
    "from sklearn.model_selection import train_test_split\n",
    "from sklearn.naive_bayes import GaussianNB\n",
    "from sklearn.metrics import accuracy_score"
   ]
  },
  {
   "cell_type": "markdown",
   "metadata": {},
   "source": [
    "Following code reads a text file into a dataframe. Modify the below code to split the values of B, G, R and class label into different columns. Each column must have a column name as specified below:\n",
    "\n",
    "```\n",
    "Column No.   Expected Column Name\n",
    "1            BLUE\n",
    "2            GREEN\n",
    "3            RED\n",
    "4            RESULT     \n",
    "```"
   ]
  },
  {
   "cell_type": "code",
   "execution_count": 2,
   "metadata": {
    "ExecuteTime": {
     "end_time": "2018-09-21T17:06:55.810418Z",
     "start_time": "2018-09-21T17:06:54.754882Z"
    }
   },
   "outputs": [],
   "source": [
    "df = pd.read_csv(sep='\\t', header=None, names=['BLUE', 'GREEN', 'RED', 'RESULT'],\n",
    "    filepath_or_buffer='https://archive.ics.uci.edu/ml/machine-learning-databases/00229/Skin_NonSkin.txt')"
   ]
  },
  {
   "cell_type": "code",
   "execution_count": 3,
   "metadata": {
    "ExecuteTime": {
     "end_time": "2018-09-21T17:06:55.835066Z",
     "start_time": "2018-09-21T17:06:55.812197Z"
    }
   },
   "outputs": [
    {
     "data": {
      "text/html": [
       "<div>\n",
       "<style scoped>\n",
       "    .dataframe tbody tr th:only-of-type {\n",
       "        vertical-align: middle;\n",
       "    }\n",
       "\n",
       "    .dataframe tbody tr th {\n",
       "        vertical-align: top;\n",
       "    }\n",
       "\n",
       "    .dataframe thead th {\n",
       "        text-align: right;\n",
       "    }\n",
       "</style>\n",
       "<table border=\"1\" class=\"dataframe\">\n",
       "  <thead>\n",
       "    <tr style=\"text-align: right;\">\n",
       "      <th></th>\n",
       "      <th>BLUE</th>\n",
       "      <th>GREEN</th>\n",
       "      <th>RED</th>\n",
       "      <th>RESULT</th>\n",
       "    </tr>\n",
       "  </thead>\n",
       "  <tbody>\n",
       "    <tr>\n",
       "      <th>0</th>\n",
       "      <td>74</td>\n",
       "      <td>85</td>\n",
       "      <td>123</td>\n",
       "      <td>1</td>\n",
       "    </tr>\n",
       "    <tr>\n",
       "      <th>1</th>\n",
       "      <td>73</td>\n",
       "      <td>84</td>\n",
       "      <td>122</td>\n",
       "      <td>1</td>\n",
       "    </tr>\n",
       "    <tr>\n",
       "      <th>2</th>\n",
       "      <td>72</td>\n",
       "      <td>83</td>\n",
       "      <td>121</td>\n",
       "      <td>1</td>\n",
       "    </tr>\n",
       "    <tr>\n",
       "      <th>3</th>\n",
       "      <td>70</td>\n",
       "      <td>81</td>\n",
       "      <td>119</td>\n",
       "      <td>1</td>\n",
       "    </tr>\n",
       "    <tr>\n",
       "      <th>4</th>\n",
       "      <td>70</td>\n",
       "      <td>81</td>\n",
       "      <td>119</td>\n",
       "      <td>1</td>\n",
       "    </tr>\n",
       "  </tbody>\n",
       "</table>\n",
       "</div>"
      ],
      "text/plain": [
       "   BLUE  GREEN  RED  RESULT\n",
       "0    74     85  123       1\n",
       "1    73     84  122       1\n",
       "2    72     83  121       1\n",
       "3    70     81  119       1\n",
       "4    70     81  119       1"
      ]
     },
     "execution_count": 3,
     "metadata": {},
     "output_type": "execute_result"
    }
   ],
   "source": [
    "df.head()"
   ]
  },
  {
   "cell_type": "code",
   "execution_count": 4,
   "metadata": {
    "ExecuteTime": {
     "end_time": "2018-09-21T17:06:55.866816Z",
     "start_time": "2018-09-21T17:06:55.837335Z"
    }
   },
   "outputs": [
    {
     "name": "stdout",
     "output_type": "stream",
     "text": [
      "<class 'pandas.core.frame.DataFrame'>\n",
      "RangeIndex: 245057 entries, 0 to 245056\n",
      "Data columns (total 4 columns):\n",
      "BLUE      245057 non-null int64\n",
      "GREEN     245057 non-null int64\n",
      "RED       245057 non-null int64\n",
      "RESULT    245057 non-null int64\n",
      "dtypes: int64(4)\n",
      "memory usage: 7.5 MB\n"
     ]
    }
   ],
   "source": [
    "df.info()"
   ]
  },
  {
   "cell_type": "markdown",
   "metadata": {},
   "source": [
    "Write some code to define X and y dataframes containing R G B components in X and the class in y. Then these will be used to split the data into test / train data. We will be using the Test-Train Split in order to calculate the accuracy of a classification model."
   ]
  },
  {
   "cell_type": "code",
   "execution_count": 5,
   "metadata": {
    "ExecuteTime": {
     "end_time": "2018-09-21T17:06:55.910727Z",
     "start_time": "2018-09-21T17:06:55.869313Z"
    }
   },
   "outputs": [],
   "source": [
    "# Write your code here\n",
    "X = df[['BLUE', 'GREEN', 'RED']]\n",
    "y = df['RESULT']\n",
    "\n",
    "X_train, X_test, y_train, y_test = train_test_split(X, y, test_size=0.25, random_state=42)"
   ]
  },
  {
   "cell_type": "markdown",
   "metadata": {},
   "source": [
    "The code in the next cell is used to classify the test data by following the steps below:\n",
    "    1. Import Gaussian Naïve Bayes Classifier\n",
    "    2. Fit the model with training data (X: attributes and y:labels)\n",
    "    3. Use the trained model to predict labels of test data (X_test)\n",
    "    4. Calculate the accuracy score using actual labels (y_test) and predicted labels (y_pred)"
   ]
  },
  {
   "cell_type": "code",
   "execution_count": 6,
   "metadata": {
    "ExecuteTime": {
     "end_time": "2018-09-21T17:06:55.961770Z",
     "start_time": "2018-09-21T17:06:55.913361Z"
    }
   },
   "outputs": [
    {
     "data": {
      "text/plain": [
       "0.9239206724883702"
      ]
     },
     "execution_count": 6,
     "metadata": {},
     "output_type": "execute_result"
    }
   ],
   "source": [
    "gnb = GaussianNB()\n",
    "y_pred = gnb.fit(X_train, y_train).predict(X_test)\n",
    "accuracy_score(y_test, y_pred)"
   ]
  },
  {
   "cell_type": "markdown",
   "metadata": {},
   "source": [
    "Write some code to calculate Precision, Recall and F-score of the results obtained using the given GaussianNB classification model.\n"
   ]
  },
  {
   "cell_type": "code",
   "execution_count": 7,
   "metadata": {
    "ExecuteTime": {
     "end_time": "2018-09-21T17:06:56.003288Z",
     "start_time": "2018-09-21T17:06:55.963770Z"
    }
   },
   "outputs": [
    {
     "name": "stdout",
     "output_type": "stream",
     "text": [
      "Precision: 0.874\n",
      "Recall: 0.738\n",
      "F1: 0.800\n"
     ]
    }
   ],
   "source": [
    "from sklearn.metrics import precision_score, recall_score, f1_score, classification_report\n",
    "\n",
    "precision = precision_score(y_test, y_pred)\n",
    "recall = recall_score(y_test, y_pred)\n",
    "f1 = f1_score(y_test, y_pred)\n",
    "\n",
    "print('Precision: %.03f' % precision)\n",
    "print('Recall: %.03f' % recall)\n",
    "print('F1: %.03f' % f1)"
   ]
  },
  {
   "cell_type": "code",
   "execution_count": 8,
   "metadata": {
    "ExecuteTime": {
     "end_time": "2018-09-21T17:06:56.024148Z",
     "start_time": "2018-09-21T17:06:56.005802Z"
    }
   },
   "outputs": [
    {
     "name": "stdout",
     "output_type": "stream",
     "text": [
      "             precision    recall  f1-score   support\n",
      "\n",
      "          1       0.87      0.74      0.80     12636\n",
      "          2       0.93      0.97      0.95     48629\n",
      "\n",
      "avg / total       0.92      0.92      0.92     61265\n",
      "\n"
     ]
    }
   ],
   "source": [
    "# Might be easier to read with less code & more information\n",
    "print(classification_report(y_test, y_pred))"
   ]
  },
  {
   "cell_type": "markdown",
   "metadata": {},
   "source": [
    "Write some code to classify X_train and y_train using Multinomial Naive Bayes Classifier or Bernoulli Naive Bayes Classifier. Calculate the accuracy, precision, recall and f1-score values for your trained model. Use the scikit learn library for this task."
   ]
  },
  {
   "cell_type": "code",
   "execution_count": 9,
   "metadata": {
    "ExecuteTime": {
     "end_time": "2018-09-21T17:06:56.072959Z",
     "start_time": "2018-09-21T17:06:56.026178Z"
    }
   },
   "outputs": [
    {
     "data": {
      "text/plain": [
       "0.9345792867052967"
      ]
     },
     "execution_count": 9,
     "metadata": {},
     "output_type": "execute_result"
    }
   ],
   "source": [
    "from sklearn.naive_bayes import MultinomialNB, BernoulliNB\n",
    "\n",
    "\n",
    "mnb = MultinomialNB()\n",
    "y_pred_mnb = mnb.fit(X_train, y_train).predict(X_test)\n",
    "accuracy_score(y_test, y_pred_mnb)"
   ]
  },
  {
   "cell_type": "code",
   "execution_count": 10,
   "metadata": {
    "ExecuteTime": {
     "end_time": "2018-09-21T17:06:56.125844Z",
     "start_time": "2018-09-21T17:06:56.075499Z"
    }
   },
   "outputs": [
    {
     "data": {
      "text/plain": [
       "0.7937484697625071"
      ]
     },
     "execution_count": 10,
     "metadata": {},
     "output_type": "execute_result"
    }
   ],
   "source": [
    "bnb = BernoulliNB()\n",
    "y_pred_bnb = bnb.fit(X_train, y_train).predict(X_test)\n",
    "accuracy_score(y_test, y_pred_bnb)"
   ]
  },
  {
   "cell_type": "code",
   "execution_count": 11,
   "metadata": {
    "ExecuteTime": {
     "end_time": "2018-09-21T17:06:56.145655Z",
     "start_time": "2018-09-21T17:06:56.128028Z"
    }
   },
   "outputs": [
    {
     "name": "stdout",
     "output_type": "stream",
     "text": [
      "Classification report for MultinomialNB: \n",
      "             precision    recall  f1-score   support\n",
      "\n",
      "          1       0.76      1.00      0.86     12636\n",
      "          2       1.00      0.92      0.96     48629\n",
      "\n",
      "avg / total       0.95      0.93      0.94     61265\n",
      "\n"
     ]
    }
   ],
   "source": [
    "print('Classification report for MultinomialNB: ')\n",
    "print(classification_report(y_test, y_pred_mnb))"
   ]
  },
  {
   "cell_type": "code",
   "execution_count": 12,
   "metadata": {
    "ExecuteTime": {
     "end_time": "2018-09-21T17:06:56.167483Z",
     "start_time": "2018-09-21T17:06:56.148454Z"
    }
   },
   "outputs": [
    {
     "name": "stdout",
     "output_type": "stream",
     "text": [
      "Classification report for BernoulliNB: \n",
      "             precision    recall  f1-score   support\n",
      "\n",
      "          1       0.00      0.00      0.00     12636\n",
      "          2       0.79      1.00      0.89     48629\n",
      "\n",
      "avg / total       0.63      0.79      0.70     61265\n",
      "\n"
     ]
    },
    {
     "name": "stderr",
     "output_type": "stream",
     "text": [
      "/usr/local/lib/python3.6/site-packages/sklearn/metrics/classification.py:1135: UndefinedMetricWarning: Precision and F-score are ill-defined and being set to 0.0 in labels with no predicted samples.\n",
      "  'precision', 'predicted', average, warn_for)\n"
     ]
    }
   ],
   "source": [
    "print('Classification report for BernoulliNB: ')\n",
    "print(classification_report(y_test, y_pred_bnb))"
   ]
  },
  {
   "cell_type": "markdown",
   "metadata": {},
   "source": [
    "### Analysis\n",
    "\n",
    "It seems Multinomial Naive Bayes performed the best in terms of raw accuracy as well as precision, recall & f1 score compared to Gaussian Naive Bayes & Bernoulli Naive Bayes. Bernoulli Naive Bayes was designed for binary/boolean features and thus assumes that each feature follows a multivariate Bernoulli distribution, so this is why it performs poorly. Gaussian Naive Bayes assumes that the features are normally distributed and follow a Gaussian/normal distribution, which may not be the case for the features in this dataset."
   ]
  },
  {
   "cell_type": "code",
   "execution_count": null,
   "metadata": {},
   "outputs": [],
   "source": []
  }
 ],
 "metadata": {
  "kernelspec": {
   "display_name": "Python 3",
   "language": "python",
   "name": "python3"
  },
  "language_info": {
   "codemirror_mode": {
    "name": "ipython",
    "version": 3
   },
   "file_extension": ".py",
   "mimetype": "text/x-python",
   "name": "python",
   "nbconvert_exporter": "python",
   "pygments_lexer": "ipython3",
   "version": "3.6.5"
  }
 },
 "nbformat": 4,
 "nbformat_minor": 2
}
