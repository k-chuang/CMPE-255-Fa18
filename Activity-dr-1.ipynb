{
 "cells": [
  {
   "cell_type": "markdown",
   "metadata": {},
   "source": [
    "## Measuring Variance Explained by a PCA Model\n",
    "\n",
    "This notebook will show how to measure the amount of variance that can be explained by the top $k$ principal components in a Principal Component Analysis (PCA) model. This technique is used to pick the number of lower dimensional space dimensions when performing dimensionality reduction using PCA.\n",
    "\n",
    "For the purposes of this demonstration, we will use the wine dataset from the UCI Machine Learning Repository, found at https://archive.ics.uci.edu/ml/datasets/Wine. This demo was inspired by Sebastian Raschka's demo found at https://plot.ly/ipython-notebooks/principal-component-analysis/.\n",
    "\n",
    "Just as there are multiple methods to compute a PCA model, we will show two different ways to measure the percent of explained variance in the model. This percentage is computed from the eigenvalues obtained after the eigendecomposition of the covariance matrix step in PCA. In short, the eigenvectors with the highest associated absolute eigenvalues are those that account for the most variance in the data. As a result, when building the PCA lower-dimensional data, we choose the $k$ principal components with the highest associated absolute eigenvalues, in non-increasing value order. By normalizing the vector of absolute eigenvalues with the L-1 norm, we obtain, for each feature, the percentage of the overall variance expained by that feature. Then, we obtain the percent variance expained by the chosen set of features by suming up the individual percent values for the chosen features. The vector of eigenvalues can also be easily recovered from the sigular values obtained from the Singular Value Decomposition (SVD) of the original centered matrix.\n",
    "\n",
    "### Data pre-processing\n",
    "\n",
    "Standardization makes features in the original feature space be compatible with each other with regards to the measurement scale. This is important in many Data Mining and Machine Learning analyses, and especially for the PCA, which aims to preserve variance. If there is significant difference in measurement scales between features (e.g., one feature is measured in mm and all others in m), the transformation will mainly pick up on the variance produced by some of the features and miss out of the more minute differences in the others. "
   ]
  },
  {
   "cell_type": "code",
   "execution_count": 1,
   "metadata": {
    "ExecuteTime": {
     "end_time": "2018-10-12T02:48:54.872386Z",
     "start_time": "2018-10-12T02:48:53.500412Z"
    }
   },
   "outputs": [],
   "source": [
    "import pandas as pd\n",
    "import numpy as np\n",
    "from sklearn.preprocessing import StandardScaler\n",
    "\n",
    "# read in the dataset\n",
    "df = pd.read_csv(\n",
    "    filepath_or_buffer='data/wine.data', \n",
    "    header=None, \n",
    "    sep=',')\n",
    "    \n",
    "    \n",
    "# extract the vectors from the Pandas data file\n",
    "X = df.iloc[:,1:].values\n",
    "\n",
    "# standardise the data\n",
    "X_std = StandardScaler().fit_transform(X)"
   ]
  },
  {
   "cell_type": "markdown",
   "metadata": {},
   "source": [
    "Some of the PCA computation methods require that the data be centered, i.e., the mean of all the sample values for the jth feature is subtracted from all the jth feature sample values."
   ]
  },
  {
   "cell_type": "code",
   "execution_count": 2,
   "metadata": {
    "ExecuteTime": {
     "end_time": "2018-10-12T02:48:54.878558Z",
     "start_time": "2018-10-12T02:48:54.874627Z"
    }
   },
   "outputs": [],
   "source": [
    "# subtract the mean vector from each vector in the dataset\n",
    "means = np.mean(X_std, axis=0)\n",
    "X_sm = X_std - means"
   ]
  },
  {
   "cell_type": "markdown",
   "metadata": {},
   "source": [
    "### Algorithm 1: Computing PCA via the covariance matrix\n",
    "\n",
    "One way to find the principal components is by an eigendecomposition of the covariance matrix $X_{cov} = \\frac{1}{n-1} X^TX$, where $X$ is the centered matrix."
   ]
  },
  {
   "cell_type": "code",
   "execution_count": 3,
   "metadata": {
    "ExecuteTime": {
     "end_time": "2018-10-12T02:48:54.891664Z",
     "start_time": "2018-10-12T02:48:54.881740Z"
    }
   },
   "outputs": [
    {
     "name": "stdout",
     "output_type": "stream",
     "text": [
      "X_cov == X_cov2:  True\n"
     ]
    }
   ],
   "source": [
    "X_cov = X_sm.T.dot(X_sm) / (X_sm.shape[0] - 1)\n",
    "\n",
    "# Side-note: Numpy has a function for computing the covariance matrix\n",
    "X_cov2 = np.cov(X_std.T)\n",
    "print(\"X_cov == X_cov2: \", np.allclose(X_cov, X_cov2))\n",
    "\n",
    "# perform the eigendecomposition of the covariance matrix\n",
    "eig_vals, eig_vecs = np.linalg.eig(X_cov)"
   ]
  },
  {
   "cell_type": "markdown",
   "metadata": {},
   "source": [
    "What remains now is to pick the eigenvectors (columns in *eig_vecs*) associated with the eigenvalues in *eig_vals* with the highest absolute values. Let's see first the percent variance expained by each eigenvalue-eigenvector pair. To do this, we sort the absolute eigenvalues and transform the values into percentages by performing L-1 normalization. We then perform a prefix-sum operation on the vector of percentages. The resulting vector will show us, in its $j$th dimension, the percent of explained variance in the PCA dimensionality reduction using $j$ dimensions. We will create a function that we can reuse to do this transformation."
   ]
  },
  {
   "cell_type": "code",
   "execution_count": 4,
   "metadata": {
    "ExecuteTime": {
     "end_time": "2018-10-12T02:48:54.906724Z",
     "start_time": "2018-10-12T02:48:54.895018Z"
    }
   },
   "outputs": [
    {
     "name": "stdout",
     "output_type": "stream",
     "text": [
      "eigenvalues:     [4.73243698 2.51108093 1.45424187 0.92416587 0.85804868 0.64528221\n",
      " 0.55414147 0.10396199 0.35046627 0.16972374 0.29051203 0.22706428\n",
      " 0.25232001]\n",
      "percent values:  [0.36198848 0.1920749  0.11123631 0.0706903  0.06563294 0.04935823\n",
      " 0.04238679 0.02680749 0.02222153 0.01930019 0.01736836 0.01298233\n",
      " 0.00795215]\n",
      "prefix vector:   [0.36198848 0.55406338 0.66529969 0.73598999 0.80162293 0.85098116\n",
      " 0.89336795 0.92017544 0.94239698 0.96169717 0.97906553 0.99204785\n",
      " 1.        ]\n"
     ]
    }
   ],
   "source": [
    "def percvar(v):\n",
    "    r\"\"\"Transform eigen/singular values into percents.\n",
    "    Return: vector of percents, prefix vector of percents\n",
    "    \"\"\"\n",
    "    # sort values\n",
    "    s = np.sort(np.abs(v))\n",
    "    # reverse sorting order\n",
    "    s = s[::-1]\n",
    "    # normalize\n",
    "    s = s/np.sum(s)\n",
    "    return s, np.cumsum(s)\n",
    "print(\"eigenvalues:    \", eig_vals)\n",
    "pct, pv = percvar(eig_vals)\n",
    "print(\"percent values: \", pct)\n",
    "print(\"prefix vector:  \", pv)"
   ]
  },
  {
   "cell_type": "markdown",
   "metadata": {},
   "source": [
    "## Exercise 1\n",
    "Plot the `pct` and `pv` vectors and observe the general trend of the variance as more and more dimensions are added."
   ]
  },
  {
   "cell_type": "code",
   "execution_count": 5,
   "metadata": {
    "ExecuteTime": {
     "end_time": "2018-10-12T02:48:57.417307Z",
     "start_time": "2018-10-12T02:48:57.018253Z"
    }
   },
   "outputs": [
    {
     "data": {
      "text/plain": [
       "Text(0,0.5,'Percentage of features explained')"
      ]
     },
     "execution_count": 5,
     "metadata": {},
     "output_type": "execute_result"
    },
    {
     "data": {
      "image/png": "[encoded data removed]",
      "text/plain": [
       "<Figure size 432x288 with 1 Axes>"
      ]
     },
     "metadata": {},
     "output_type": "display_data"
    }
   ],
   "source": [
    "# plot feature and overall percent variance\n",
    "%matplotlib inline\n",
    "import matplotlib.pyplot as plt\n",
    "\n",
    "plt.plot(range(1, len(pct)+1), pct, label=\"feature\");\n",
    "plt.plot(range(1, len(pv)+1), pv, label=\"overall\");\n",
    "\n",
    "plt.xlabel('Dimensions')\n",
    "plt.ylabel('Percentage of features explained')"
   ]
  },
  {
   "cell_type": "markdown",
   "metadata": {},
   "source": [
    "Now, given an expected percent variance $p$, we choose the number of features $k$ with at least that percent explained variance value in the vector $pv$, i.e., the first dimension whose value is greater or equal to the desired percent. \n",
    "\n",
    "## Exercise 2\n",
    "Create a function that, given the overall percent varience vector plotted in the previous exercise and the expected percent variance $p$, returns the number of latent space dimensions that account for $p$% variance in the data. Print out the number of dimensions for $p \\in \\{40, 60, 80, 90, 95\\}$."
   ]
  },
  {
   "cell_type": "code",
   "execution_count": 6,
   "metadata": {
    "ExecuteTime": {
     "end_time": "2018-10-12T02:49:09.108122Z",
     "start_time": "2018-10-12T02:49:09.100987Z"
    }
   },
   "outputs": [
    {
     "name": "stdout",
     "output_type": "stream",
     "text": [
      "Number of dimensions to account for 40% of the variance: 1\n",
      "Number of dimensions to account for 60% of the variance: 2\n",
      "Number of dimensions to account for 80% of the variance: 4\n",
      "Number of dimensions to account for 90% of the variance: 7\n",
      "Number of dimensions to account for 95% of the variance: 9\n"
     ]
    }
   ],
   "source": [
    "def perck(s, p):\n",
    "    s = [x for x in s if x <= p]\n",
    "    return len(s)\n",
    "\n",
    "for p in [40, 60, 80, 90, 95]:\n",
    "    print(\"Number of dimensions to account for %d%% of the variance: %d\" % (p, perck(pv, p*0.01)))"
   ]
  },
  {
   "cell_type": "markdown",
   "metadata": {},
   "source": [
    "### Algorithm 2: Computing PCA via the Singular Value Decomposition (SVD)\n",
    "\n",
    "We can instead compute the PCA trasformation via the SVD of the centered matrix $X = X_{sm}$. However, we will then need to transform the singular values of $X$ into eigenvalues of $X^TX$ before constructing the percent vector. In general, the non-zero singular values of a matrix $X$ are the square roots of the eigenvalues of the square matrix $X^TX$."
   ]
  },
  {
   "cell_type": "code",
   "execution_count": 7,
   "metadata": {
    "ExecuteTime": {
     "end_time": "2018-10-12T02:49:41.876167Z",
     "start_time": "2018-10-12T02:49:41.867298Z"
    }
   },
   "outputs": [
    {
     "name": "stdout",
     "output_type": "stream",
     "text": [
      "singular values:         [28.94203422 21.08225141 16.04371561 12.78973645 12.32374195 10.68713954\n",
      "  9.90368818  7.8760733   7.17081793  6.6828618   6.33958815  5.48097635\n",
      "  4.28967045]\n",
      "eigenvalues:             [4.73243698 2.51108093 1.45424187 0.92416587 0.85804868 0.64528221\n",
      " 0.55414147 0.35046627 0.29051203 0.25232001 0.22706428 0.16972374\n",
      " 0.10396199]\n",
      "scaled singular values:  [4.73243698 2.51108093 1.45424187 0.92416587 0.85804868 0.64528221\n",
      " 0.55414147 0.35046627 0.29051203 0.25232001 0.22706428 0.16972374\n",
      " 0.10396199]\n"
     ]
    }
   ],
   "source": [
    "U,s,V = np.linalg.svd(X_sm)\n",
    "# singular values of X are the square roots of the eigenvalues of the square matrix X^TX\n",
    "print(\"singular values:        \", s)\n",
    "print(\"eigenvalues:            \", (np.sort(np.abs(eig_vals)))[::-1])\n",
    "print(\"scaled singular values: \", (s**2/(X_sm.shape[0]-1)))"
   ]
  },
  {
   "cell_type": "markdown",
   "metadata": {},
   "source": [
    "Since L-1 normalization is invariant to scaling by a constant factor, we can simply apply the *percvar* function to the squared singular values. The result will be equivalent to the one from Algorithm 1.\n",
    "\n",
    "**Note:** Applying the same technique directly to singular values does not give the same result. In practice, you should base your choice of $k$ on the absolute eigenvalues, which can be theoretically explained as a measure of latent variance in the feature space.\n",
    "\n",
    "## Exercise 3\n",
    "Use the `percvar` function to verify that the analysis applied to squared singular values gives the same results as the one based on the covariance matrix. Additionally, verify that the analysis based on absolute singular values does not provide the same results."
   ]
  },
  {
   "cell_type": "code",
   "execution_count": 8,
   "metadata": {
    "ExecuteTime": {
     "end_time": "2018-10-12T02:49:42.543052Z",
     "start_time": "2018-10-12T02:49:42.539503Z"
    }
   },
   "outputs": [],
   "source": [
    "pct_scaled_singular, pv_scaled_singular = percvar(s**2/(X_sm.shape[0]-1))"
   ]
  },
  {
   "cell_type": "code",
   "execution_count": 9,
   "metadata": {
    "ExecuteTime": {
     "end_time": "2018-10-12T02:49:42.824441Z",
     "start_time": "2018-10-12T02:49:42.819993Z"
    }
   },
   "outputs": [
    {
     "name": "stdout",
     "output_type": "stream",
     "text": [
      "pct == pct_scaled_singular:  True\n",
      "pv == pv_scaled_singular:  True\n"
     ]
    }
   ],
   "source": [
    "print(\"pct == pct_scaled_singular: \", np.allclose(pct, pct_scaled_singular))\n",
    "print(\"pv == pv_scaled_singular: \", np.allclose(pv, pv_scaled_singular))"
   ]
  },
  {
   "cell_type": "code",
   "execution_count": 10,
   "metadata": {
    "ExecuteTime": {
     "end_time": "2018-10-12T02:49:43.140362Z",
     "start_time": "2018-10-12T02:49:43.137068Z"
    }
   },
   "outputs": [],
   "source": [
    "pct_abs_singular, pv_abs_singular = percvar(s)"
   ]
  },
  {
   "cell_type": "code",
   "execution_count": 11,
   "metadata": {
    "ExecuteTime": {
     "end_time": "2018-10-12T02:49:43.504430Z",
     "start_time": "2018-10-12T02:49:43.499974Z"
    }
   },
   "outputs": [
    {
     "name": "stdout",
     "output_type": "stream",
     "text": [
      "pct == pct_abs_singular:  False\n",
      "pv == pv_abs_singular:  False\n"
     ]
    }
   ],
   "source": [
    "print(\"pct == pct_abs_singular: \", np.allclose(pct, pct_abs_singular))\n",
    "print(\"pv == pv_abs_singular: \", np.allclose(pv, pv_abs_singular))"
   ]
  },
  {
   "cell_type": "code",
   "execution_count": null,
   "metadata": {},
   "outputs": [],
   "source": []
  }
 ],
 "metadata": {
  "anaconda-cloud": {},
  "kernelspec": {
   "display_name": "Python 3",
   "language": "python",
   "name": "python3"
  },
  "language_info": {
   "codemirror_mode": {
    "name": "ipython",
    "version": 3
   },
   "file_extension": ".py",
   "mimetype": "text/x-python",
   "name": "python",
   "nbconvert_exporter": "python",
   "pygments_lexer": "ipython3",
   "version": "3.6.5"
  }
 },
 "nbformat": 4,
 "nbformat_minor": 1
}
